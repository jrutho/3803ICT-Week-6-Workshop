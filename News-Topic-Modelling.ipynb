{
 "cells": [
  {
   "cell_type": "markdown",
   "metadata": {},
   "source": [
    "# Topic Modelling for News"
   ]
  },
  {
   "cell_type": "markdown",
   "metadata": {},
   "source": [
    "![](https://images.unsplash.com/photo-1495020689067-958852a7765e?ixlib=rb-1.2.1&ixid=eyJhcHBfaWQiOjEyMDd9&auto=format&fit=crop&w=1050&q=80)\n",
    "\n",
    "Photo by [Roman Kraft](https://unsplash.com/photos/_Zua2hyvTBk)"
   ]
  },
  {
   "cell_type": "markdown",
   "metadata": {},
   "source": [
    "This exercise is about modelling the main topics of a database of News headlines."
   ]
  },
  {
   "cell_type": "markdown",
   "metadata": {},
   "source": [
    "Begin by importing the needed libraries:"
   ]
  },
  {
   "cell_type": "code",
   "execution_count": 81,
   "metadata": {},
   "outputs": [],
   "source": [
    "# TODO: import needed libraries\n",
    "import pandas as pd\n",
    "import string\n",
    "from nltk import word_tokenize\n",
    "from nltk.corpus import stopwords\n",
    "from nltk.stem import WordNetLemmatizer\n",
    "import gensim\n",
    "from gensim.corpora import Dictionary\n",
    "from gensim.models import TfidfModel\n",
    "from gensim.models import LsiModel\n",
    "from gensim.models import LdaModel\n",
    "import pyLDAvis\n",
    "import pyLDAvis.gensim_models as gensimvis"
   ]
  },
  {
   "cell_type": "markdown",
   "metadata": {},
   "source": [
    "Load the data in the file `random_headlines.csv`"
   ]
  },
  {
   "cell_type": "code",
   "execution_count": 82,
   "metadata": {
    "scrolled": true
   },
   "outputs": [
    {
     "name": "stdout",
     "output_type": "stream",
     "text": [
      "(20000, 2)\n"
     ]
    },
    {
     "data": {
      "text/html": [
       "<div>\n",
       "<style scoped>\n",
       "    .dataframe tbody tr th:only-of-type {\n",
       "        vertical-align: middle;\n",
       "    }\n",
       "\n",
       "    .dataframe tbody tr th {\n",
       "        vertical-align: top;\n",
       "    }\n",
       "\n",
       "    .dataframe thead th {\n",
       "        text-align: right;\n",
       "    }\n",
       "</style>\n",
       "<table border=\"1\" class=\"dataframe\">\n",
       "  <thead>\n",
       "    <tr style=\"text-align: right;\">\n",
       "      <th></th>\n",
       "      <th>publish_date</th>\n",
       "      <th>headline_text</th>\n",
       "    </tr>\n",
       "  </thead>\n",
       "  <tbody>\n",
       "    <tr>\n",
       "      <th>0</th>\n",
       "      <td>20120305</td>\n",
       "      <td>ute driver hurt in intersection crash</td>\n",
       "    </tr>\n",
       "    <tr>\n",
       "      <th>1</th>\n",
       "      <td>20081128</td>\n",
       "      <td>6yo dies in cycling accident</td>\n",
       "    </tr>\n",
       "    <tr>\n",
       "      <th>2</th>\n",
       "      <td>20090325</td>\n",
       "      <td>bumper olive harvest expected</td>\n",
       "    </tr>\n",
       "    <tr>\n",
       "      <th>3</th>\n",
       "      <td>20100201</td>\n",
       "      <td>replica replaces northernmost sign</td>\n",
       "    </tr>\n",
       "    <tr>\n",
       "      <th>4</th>\n",
       "      <td>20080225</td>\n",
       "      <td>woods targets perfect season</td>\n",
       "    </tr>\n",
       "  </tbody>\n",
       "</table>\n",
       "</div>"
      ],
      "text/plain": [
       "   publish_date                          headline_text\n",
       "0      20120305  ute driver hurt in intersection crash\n",
       "1      20081128           6yo dies in cycling accident\n",
       "2      20090325          bumper olive harvest expected\n",
       "3      20100201     replica replaces northernmost sign\n",
       "4      20080225           woods targets perfect season"
      ]
     },
     "execution_count": 82,
     "metadata": {},
     "output_type": "execute_result"
    }
   ],
   "source": [
    "# TODO: load the dataset\n",
    "df = pd.read_csv('random_headlines.csv')\n",
    "print(df.shape)\n",
    "df.head()"
   ]
  },
  {
   "cell_type": "markdown",
   "metadata": {},
   "source": [
    "This is always a good idea to perform some EDA (exploratory df analytics) on a dataset..."
   ]
  },
  {
   "cell_type": "code",
   "execution_count": 83,
   "metadata": {},
   "outputs": [
    {
     "name": "stdout",
     "output_type": "stream",
     "text": [
      "<class 'pandas.core.frame.DataFrame'>\n",
      "RangeIndex: 20000 entries, 0 to 19999\n",
      "Data columns (total 2 columns):\n",
      " #   Column         Non-Null Count  Dtype \n",
      "---  ------         --------------  ----- \n",
      " 0   publish_date   20000 non-null  int64 \n",
      " 1   headline_text  20000 non-null  object\n",
      "dtypes: int64(1), object(1)\n",
      "memory usage: 312.6+ KB\n",
      "None\n"
     ]
    }
   ],
   "source": [
    "# TODO: Perform a short EDA\n",
    "print(df.info())"
   ]
  },
  {
   "cell_type": "markdown",
   "metadata": {},
   "source": [
    "Now perform all the needed preprocessing on those headlines: case lowering, tokenization, punctuation removal, stopwords removal, stemming/lemmatization."
   ]
  },
  {
   "cell_type": "code",
   "execution_count": 84,
   "metadata": {},
   "outputs": [
    {
     "data": {
      "text/html": [
       "<div>\n",
       "<style scoped>\n",
       "    .dataframe tbody tr th:only-of-type {\n",
       "        vertical-align: middle;\n",
       "    }\n",
       "\n",
       "    .dataframe tbody tr th {\n",
       "        vertical-align: top;\n",
       "    }\n",
       "\n",
       "    .dataframe thead th {\n",
       "        text-align: right;\n",
       "    }\n",
       "</style>\n",
       "<table border=\"1\" class=\"dataframe\">\n",
       "  <thead>\n",
       "    <tr style=\"text-align: right;\">\n",
       "      <th></th>\n",
       "      <th>headline_text</th>\n",
       "      <th>processed_headlines</th>\n",
       "    </tr>\n",
       "  </thead>\n",
       "  <tbody>\n",
       "    <tr>\n",
       "      <th>0</th>\n",
       "      <td>ute driver hurt in intersection crash</td>\n",
       "      <td>ute driver hurt intersection crash</td>\n",
       "    </tr>\n",
       "    <tr>\n",
       "      <th>1</th>\n",
       "      <td>6yo dies in cycling accident</td>\n",
       "      <td>6yo dy cycling accident</td>\n",
       "    </tr>\n",
       "    <tr>\n",
       "      <th>2</th>\n",
       "      <td>bumper olive harvest expected</td>\n",
       "      <td>bumper olive harvest expected</td>\n",
       "    </tr>\n",
       "    <tr>\n",
       "      <th>3</th>\n",
       "      <td>replica replaces northernmost sign</td>\n",
       "      <td>replica replaces northernmost sign</td>\n",
       "    </tr>\n",
       "    <tr>\n",
       "      <th>4</th>\n",
       "      <td>woods targets perfect season</td>\n",
       "      <td>wood target perfect season</td>\n",
       "    </tr>\n",
       "  </tbody>\n",
       "</table>\n",
       "</div>"
      ],
      "text/plain": [
       "                           headline_text                 processed_headlines\n",
       "0  ute driver hurt in intersection crash  ute driver hurt intersection crash\n",
       "1           6yo dies in cycling accident             6yo dy cycling accident\n",
       "2          bumper olive harvest expected       bumper olive harvest expected\n",
       "3     replica replaces northernmost sign  replica replaces northernmost sign\n",
       "4           woods targets perfect season          wood target perfect season"
      ]
     },
     "execution_count": 84,
     "metadata": {},
     "output_type": "execute_result"
    }
   ],
   "source": [
    "# TODO: Preprocess the input data\n",
    "lemmatizer = WordNetLemmatizer()\n",
    "\n",
    "# Function to preprocess the text\n",
    "def preprocess_text(text):\n",
    "    text = text.lower()\n",
    "    tokens = word_tokenize(text)\n",
    "    tokens = [token for token in tokens if token not in string.punctuation]\n",
    "    tokens = [token for token in tokens if token not in stopwords.words('english')]\n",
    "    lemmatized_text = [lemmatizer.lemmatize(token) for token in tokens]\n",
    "    return ' '.join(lemmatized_text)\n",
    "\n",
    "# Apply the preprocessing function to the headline_text column\n",
    "df['headline_text'] = df['headline_text'].astype(str)\n",
    "df['processed_headlines'] = df['headline_text'].apply(preprocess_text)\n",
    "df[['headline_text', 'processed_headlines']].head()\n"
   ]
  },
  {
   "cell_type": "markdown",
   "metadata": {},
   "source": [
    "Now use Gensim to compute a BOW"
   ]
  },
  {
   "cell_type": "code",
   "execution_count": 85,
   "metadata": {},
   "outputs": [
    {
     "name": "stdout",
     "output_type": "stream",
     "text": [
      "(20000,)\n",
      "[[(0, 1), (1, 1), (2, 1), (3, 1), (4, 1)], [(5, 1), (6, 1), (7, 1), (8, 1)]]\n"
     ]
    }
   ],
   "source": [
    "# TODO: Compute the BOW using Gensim\n",
    "tokenized_headlines = df['processed_headlines'].apply(gensim.utils.simple_preprocess)\n",
    "\n",
    "# Create a Gensim dictionary\n",
    "dictionary = Dictionary(tokenized_headlines)\n",
    "\n",
    "# Convert to a BoW format\n",
    "bow_corpus = [dictionary.doc2bow(text) for text in tokenized_headlines]\n",
    "\n",
    "print(f\"({len(bow_corpus)},)\")\n",
    "print(bow_corpus[:2])"
   ]
  },
  {
   "cell_type": "markdown",
   "metadata": {},
   "source": [
    "Compute the TF-IDF using Gensim"
   ]
  },
  {
   "cell_type": "code",
   "execution_count": 86,
   "metadata": {},
   "outputs": [
    {
     "name": "stdout",
     "output_type": "stream",
     "text": [
      "(20000,)\n",
      "<gensim.interfaces.TransformedCorpus object at 0x000001C10F38A050>\n"
     ]
    }
   ],
   "source": [
    "# TODO: Compute TF-IDF\n",
    "tfidf = TfidfModel(bow_corpus)\n",
    "\n",
    "# Apply the TF-IDF model to the whole BOW corpus\n",
    "tfidf_corpus = tfidf[bow_corpus]\n",
    "\n",
    "print(f\"({len(tfidf_corpus)},)\")\n",
    "print(tfidf_corpus)"
   ]
  },
  {
   "cell_type": "markdown",
   "metadata": {},
   "source": [
    "Finally compute the **LSA** (also called LSI) using Gensim, for a given number of Topics that you choose yourself"
   ]
  },
  {
   "cell_type": "code",
   "execution_count": 87,
   "metadata": {},
   "outputs": [
    {
     "name": "stderr",
     "output_type": "stream",
     "text": [
      "C:\\Users\\jruth\\AppData\\Local\\Packages\\PythonSoftwareFoundation.Python.3.10_qbz5n2kfra8p0\\LocalCache\\local-packages\\Python310\\site-packages\\gensim\\models\\lsimodel.py:963: DeprecationWarning: Please use `csc_matvecs` from the `scipy.sparse` namespace, the `scipy.sparse.sparsetools` namespace is deprecated.\n",
      "  sparsetools.csc_matvecs(\n",
      "C:\\Users\\jruth\\AppData\\Local\\Packages\\PythonSoftwareFoundation.Python.3.10_qbz5n2kfra8p0\\LocalCache\\local-packages\\Python310\\site-packages\\scipy\\linalg\\_special_matrices.py:154: DeprecationWarning: 'tri'/'tril/'triu' are deprecated as of SciPy 1.11.0 and will be removed in v1.13.0. Please use numpy.(tri/tril/triu) instead.\n",
      "  out = (1 - tri(m.shape[0], m.shape[1], k - 1, m.dtype.char)) * m\n",
      "C:\\Users\\jruth\\AppData\\Local\\Packages\\PythonSoftwareFoundation.Python.3.10_qbz5n2kfra8p0\\LocalCache\\local-packages\\Python310\\site-packages\\scipy\\linalg\\_special_matrices.py:154: DeprecationWarning: 'tri'/'tril/'triu' are deprecated as of SciPy 1.11.0 and will be removed in v1.13.0. Please use numpy.(tri/tril/triu) instead.\n",
      "  out = (1 - tri(m.shape[0], m.shape[1], k - 1, m.dtype.char)) * m\n",
      "C:\\Users\\jruth\\AppData\\Local\\Packages\\PythonSoftwareFoundation.Python.3.10_qbz5n2kfra8p0\\LocalCache\\local-packages\\Python310\\site-packages\\scipy\\linalg\\_special_matrices.py:154: DeprecationWarning: 'tri'/'tril/'triu' are deprecated as of SciPy 1.11.0 and will be removed in v1.13.0. Please use numpy.(tri/tril/triu) instead.\n",
      "  out = (1 - tri(m.shape[0], m.shape[1], k - 1, m.dtype.char)) * m\n"
     ]
    }
   ],
   "source": [
    "# TODO: Compute LSA\n",
    "num_topics = 5\n",
    "\n",
    "# Create the LSI model from the TF-IDF corpus\n",
    "lsi_model = LsiModel(corpus=tfidf_corpus, id2word=dictionary, num_topics=num_topics)\n",
    "\n",
    "# Apply the LSI model to the TF-IDF corpus to create a topic distribution for each document\n",
    "lsi_corpus = lsi_model[tfidf_corpus]"
   ]
  },
  {
   "cell_type": "markdown",
   "metadata": {},
   "source": [
    "For each of the topic, show the most significant words."
   ]
  },
  {
   "cell_type": "code",
   "execution_count": 88,
   "metadata": {},
   "outputs": [
    {
     "name": "stdout",
     "output_type": "stream",
     "text": [
      "Topic 1: (0, '0.466*\"man\" + 0.422*\"police\" + 0.222*\"charged\" + 0.160*\"court\" + 0.132*\"murder\" + 0.122*\"new\" + 0.121*\"missing\" + 0.120*\"face\" + 0.116*\"death\" + 0.115*\"crash\"')\n",
      "Topic 2: (1, '0.532*\"second\" + 0.436*\"abc\" + 0.414*\"news\" + 0.367*\"weather\" + 0.265*\"business\" + 0.217*\"sport\" + -0.148*\"man\" + 0.098*\"rural\" + 0.093*\"national\" + -0.091*\"police\"')\n",
      "Topic 3: (2, '-0.473*\"man\" + -0.247*\"charged\" + 0.234*\"council\" + 0.217*\"new\" + 0.213*\"govt\" + 0.189*\"plan\" + 0.135*\"say\" + -0.131*\"second\" + 0.127*\"call\" + -0.113*\"murder\"')\n",
      "Topic 4: (3, '-0.761*\"police\" + 0.290*\"man\" + 0.148*\"charged\" + 0.141*\"council\" + 0.141*\"court\" + -0.138*\"probe\" + -0.128*\"investigate\" + 0.122*\"new\" + 0.116*\"plan\" + -0.108*\"search\"')\n",
      "Topic 5: (4, '-0.510*\"abc\" + 0.385*\"news\" + -0.366*\"interview\" + 0.304*\"rural\" + 0.269*\"national\" + 0.254*\"second\" + -0.252*\"weather\" + -0.168*\"sport\" + -0.151*\"new\" + 0.102*\"qld\"')\n"
     ]
    }
   ],
   "source": [
    "# TODO: Print the 3 or 4 most significant words of each topic\n",
    "topics = lsi_model.print_topics(num_topics=num_topics)\n",
    "\n",
    "for topic_num, topic in enumerate(topics):\n",
    "    print(f\"Topic {topic_num + 1}: {topic}\")"
   ]
  },
  {
   "cell_type": "markdown",
   "metadata": {},
   "source": [
    "What do you think about those results?"
   ]
  },
  {
   "cell_type": "markdown",
   "metadata": {},
   "source": [
    "Now let's try to use LDA instead of LSA using Gensim"
   ]
  },
  {
   "cell_type": "code",
   "execution_count": 89,
   "metadata": {},
   "outputs": [],
   "source": [
    "# TODO: Compute LDA\n",
    "# Create the LDA model from the BOW corpus\n",
    "lda_model = LdaModel(corpus=bow_corpus, id2word=dictionary, num_topics=num_topics, passes=15, random_state=100)\n",
    "topics = lda_model.print_topics(num_topics=num_topics)"
   ]
  },
  {
   "cell_type": "code",
   "execution_count": 90,
   "metadata": {
    "scrolled": true
   },
   "outputs": [
    {
     "name": "stdout",
     "output_type": "stream",
     "text": [
      "Topic 1: (0, '0.007*\"rise\" + 0.006*\"rate\" + 0.005*\"may\" + 0.005*\"market\" + 0.005*\"cut\" + 0.005*\"price\" + 0.004*\"former\" + 0.004*\"share\" + 0.004*\"australian\" + 0.004*\"power\"')\n",
      "Topic 2: (1, '0.011*\"interview\" + 0.011*\"crash\" + 0.007*\"missing\" + 0.006*\"police\" + 0.006*\"win\" + 0.006*\"driver\" + 0.005*\"china\" + 0.005*\"search\" + 0.005*\"qld\" + 0.004*\"killed\"')\n",
      "Topic 3: (2, '0.007*\"change\" + 0.007*\"govt\" + 0.007*\"say\" + 0.006*\"new\" + 0.005*\"council\" + 0.005*\"set\" + 0.005*\"green\" + 0.004*\"group\" + 0.004*\"time\" + 0.004*\"sex\"')\n",
      "Topic 4: (3, '0.010*\"new\" + 0.010*\"water\" + 0.008*\"plan\" + 0.008*\"council\" + 0.006*\"boost\" + 0.006*\"govt\" + 0.005*\"mine\" + 0.005*\"call\" + 0.005*\"mayor\" + 0.005*\"review\"')\n",
      "Topic 5: (4, '0.021*\"man\" + 0.019*\"police\" + 0.010*\"death\" + 0.009*\"charged\" + 0.009*\"court\" + 0.008*\"face\" + 0.008*\"murder\" + 0.007*\"fire\" + 0.007*\"woman\" + 0.006*\"two\"')\n"
     ]
    }
   ],
   "source": [
    "# TODO: print the most frequent words of each topic\n",
    "for topic_num, topic in enumerate(topics):\n",
    "    print(f\"Topic {topic_num + 1}: {topic}\")"
   ]
  },
  {
   "cell_type": "markdown",
   "metadata": {},
   "source": [
    "Now, how does it work with LDA?"
   ]
  },
  {
   "cell_type": "markdown",
   "metadata": {},
   "source": [
    "Let's make some visualization of the LDA results using pyLDAvis."
   ]
  },
  {
   "cell_type": "code",
   "execution_count": 91,
   "metadata": {},
   "outputs": [
    {
     "data": {
      "text/html": [
       "\n",
       "<link rel=\"stylesheet\" type=\"text/css\" href=\"https://cdn.jsdelivr.net/gh/bmabey/pyLDAvis@3.4.0/pyLDAvis/js/ldavis.v1.0.0.css\">\n",
       "\n",
       "\n",
       "<div id=\"ldavis_el1015219286110408329047146806\" style=\"background-color:white;\"></div>\n",
       "<script type=\"text/javascript\">\n",
       "\n",
       "var ldavis_el1015219286110408329047146806_data = {\"mdsDat\": {\"x\": [0.10888183233445375, -0.07274434675254009, 0.09114357256997117, 0.15549362939524472, -0.28277468754712953], \"y\": [0.00793598899789905, -0.2860646273185894, 0.09222918330811275, 0.051310790007736244, 0.13458866500484126], \"topics\": [1, 2, 3, 4, 5], \"cluster\": [1, 1, 1, 1, 1], \"Freq\": [18.60749793114884, 17.44415649276774, 23.235312517443223, 20.027695625371138, 20.685337433269062]}, \"tinfo\": {\"Term\": [\"man\", \"police\", \"crash\", \"interview\", \"death\", \"water\", \"charged\", \"court\", \"govt\", \"murder\", \"change\", \"missing\", \"face\", \"rise\", \"fire\", \"boost\", \"woman\", \"two\", \"drug\", \"plan\", \"rate\", \"found\", \"second\", \"mine\", \"council\", \"house\", \"car\", \"driver\", \"probe\", \"charge\", \"rise\", \"rate\", \"former\", \"share\", \"keep\", \"vote\", \"cattle\", \"violence\", \"despite\", \"warned\", \"tourism\", \"scheme\", \"title\", \"bill\", \"plane\", \"named\", \"central\", \"dairy\", \"lake\", \"pressure\", \"sea\", \"race\", \"oil\", \"dollar\", \"shortage\", \"shark\", \"nz\", \"firm\", \"hand\", \"prompt\", \"return\", \"price\", \"may\", \"fall\", \"force\", \"cut\", \"festival\", \"power\", \"market\", \"big\", \"open\", \"cost\", \"australian\", \"fear\", \"air\", \"claim\", \"report\", \"win\", \"job\", \"say\", \"council\", \"call\", \"crash\", \"missing\", \"driver\", \"china\", \"leader\", \"hunter\", \"tour\", \"highlight\", \"arrest\", \"train\", \"warns\", \"tasmania\", \"fatal\", \"highway\", \"doubt\", \"korea\", \"bus\", \"bushfire\", \"near\", \"people\", \"hunt\", \"cyclone\", \"nrl\", \"higher\", \"nuclear\", \"art\", \"candidate\", \"th\", \"tourist\", \"truck\", \"interview\", \"search\", \"rural\", \"news\", \"killed\", \"appeal\", \"win\", \"qld\", \"storm\", \"police\", \"dy\", \"road\", \"national\", \"find\", \"kill\", \"take\", \"woman\", \"say\", \"change\", \"green\", \"time\", \"sex\", \"resident\", \"budget\", \"funding\", \"iraq\", \"adelaide\", \"state\", \"action\", \"fight\", \"ta\", \"clash\", \"aid\", \"sign\", \"free\", \"campaign\", \"live\", \"abbott\", \"slam\", \"asylum\", \"promise\", \"climate\", \"waste\", \"front\", \"better\", \"christmas\", \"way\", \"step\", \"western\", \"reject\", \"pm\", \"drought\", \"ahead\", \"govt\", \"deal\", \"group\", \"sa\", \"urged\", \"election\", \"say\", \"set\", \"indigenous\", \"safety\", \"government\", \"coast\", \"new\", \"wa\", \"council\", \"claim\", \"sydney\", \"call\", \"fire\", \"plan\", \"court\", \"police\", \"back\", \"water\", \"boost\", \"mine\", \"mayor\", \"review\", \"country\", \"fund\", \"one\", \"study\", \"hour\", \"question\", \"accident\", \"liberal\", \"control\", \"murray\", \"grower\", \"loss\", \"meeting\", \"sport\", \"care\", \"education\", \"cancer\", \"plant\", \"impact\", \"protection\", \"level\", \"double\", \"grain\", \"confident\", \"research\", \"rail\", \"river\", \"plan\", \"new\", \"council\", \"worker\", \"opposition\", \"support\", \"hope\", \"govt\", \"health\", \"union\", \"world\", \"call\", \"mp\", \"job\", \"cup\", \"flood\", \"say\", \"service\", \"set\", \"wa\", \"open\", \"man\", \"death\", \"charged\", \"murder\", \"two\", \"drug\", \"found\", \"second\", \"house\", \"probe\", \"three\", \"teen\", \"weather\", \"guilty\", \"assault\", \"blaze\", \"alleged\", \"arrested\", \"shooting\", \"jailed\", \"bail\", \"demand\", \"investigate\", \"defence\", \"mother\", \"tiger\", \"meet\", \"firefighter\", \"old\", \"inquest\", \"car\", \"charge\", \"face\", \"dead\", \"police\", \"jail\", \"day\", \"woman\", \"court\", \"fire\", \"year\", \"attack\", \"home\", \"accused\", \"child\", \"hit\"], \"Freq\": [451.0, 604.0, 197.0, 275.0, 205.0, 199.0, 189.0, 273.0, 301.0, 160.0, 173.0, 132.0, 198.0, 136.0, 245.0, 132.0, 203.0, 132.0, 131.0, 289.0, 117.0, 120.0, 117.0, 113.0, 324.0, 114.0, 148.0, 101.0, 110.0, 134.0, 135.34141552467676, 116.41711251867098, 81.73847953097174, 81.16605162082789, 65.24081178284189, 62.75676024398813, 54.25105446097584, 52.49559849012661, 50.96048366976887, 51.18019758731562, 50.07315813059748, 48.201192528145995, 47.729766915949114, 46.21561769040415, 45.28711275144879, 45.174975956617374, 44.602490216485705, 44.25763220531005, 43.16285715446903, 42.80803014308641, 41.44765975205935, 41.276171595888655, 40.43515898003485, 39.66942766293272, 39.261339232773665, 38.8923928074433, 38.81619957426842, 36.824979640023834, 36.6659938823724, 36.0803273534798, 74.44793303958625, 90.14950427855118, 103.34685020983656, 75.14732001528424, 72.23503296820925, 90.40193662381868, 53.66811038997108, 77.85376344496657, 96.27282808974685, 61.942505118649684, 74.12821772772777, 52.84965591782524, 80.44166429655196, 63.720519233206865, 51.332099171459866, 66.52198622978835, 71.1789105915308, 70.39752959003415, 59.242801106777954, 58.20283998746313, 54.78649342122191, 53.55174755756867, 196.97060635308702, 131.98819318997016, 101.14041857220622, 92.32837605063983, 70.71198859275414, 64.169525796683, 61.20841984721979, 59.68030619934113, 58.27966324596136, 56.81074344214857, 55.323949549589386, 50.98483309649596, 50.374294927463815, 49.97960952544625, 49.98724125255916, 47.65907655303, 47.601346499246446, 47.28698189733516, 46.16930086545129, 45.258881694651635, 44.215966566418096, 43.63194343617493, 41.58144015258949, 41.649516826573645, 40.084383046683385, 38.7251641071902, 36.95144229724202, 36.7305475859217, 36.757004239913094, 35.29083269192948, 204.78886455358767, 89.76207227278934, 78.65338867204703, 76.78386574994715, 80.0176912592728, 63.06186192792766, 103.61449105124308, 88.15460534430724, 50.55036262526688, 115.62345989006135, 61.49213660074161, 64.36194540815256, 61.3532641893429, 53.85774046852161, 51.356356415243006, 55.153215720079984, 51.678473684205045, 52.00215066133114, 172.9361073031477, 109.8604165237037, 104.59394363120384, 99.97602974579898, 99.60333439804783, 98.10019907892153, 95.84620711767792, 93.60441354948975, 91.44910303297739, 89.33882547297708, 72.49752737987775, 70.00345037935861, 69.65126899588512, 60.84792869616387, 60.15986933705737, 58.74111734621209, 50.699454485362246, 49.17468868237534, 48.5257741665574, 47.906211339676126, 47.95396615984807, 47.08806911692107, 45.57817913205914, 44.506081475010596, 41.482007626492646, 41.74426474494886, 40.61520514728693, 39.68570537189874, 39.73843731419167, 39.265046898083305, 39.4847179599095, 81.45936902178653, 91.30789385726597, 70.16204615355068, 69.15651750487025, 172.50495298977023, 76.06612949544416, 105.49927992308056, 99.3696429609612, 84.0805792745187, 89.39682338822836, 170.34799269059056, 110.10408442432748, 71.38744583771395, 64.47733391299842, 81.28894702773334, 84.85001680223273, 144.00291879124657, 91.80247314874318, 111.12869389274627, 83.32048496042908, 82.7867941546061, 90.24988323336342, 85.42454111777818, 87.41524554075147, 85.98311197938226, 89.7663913701825, 82.35101267300678, 198.83954521666647, 131.77641763030076, 112.87730367626868, 102.06874428126866, 97.14408179656715, 92.09623404216802, 90.9896637521768, 90.84464527236487, 81.08431936208572, 72.43379084346819, 72.5027857026233, 62.68090546137274, 57.254754249881024, 56.44132353358254, 54.52542583015862, 52.47587632253931, 51.29410115727055, 49.328710056269514, 48.6059494057462, 45.830641969197536, 45.25370896789609, 44.23552966297513, 41.98895458601282, 41.1086117838925, 40.190769485803905, 39.02727963400589, 38.87169646601036, 38.404413101732594, 38.18560699010669, 36.46884396327476, 63.583210749193576, 64.36305854098728, 172.82933557646305, 202.97716835659364, 157.93904797462238, 80.53410331526628, 66.18118559736419, 65.43662525261928, 69.3421891393424, 128.27706157535144, 90.59443476926094, 69.12331599593107, 74.34253529778887, 104.34982636377788, 78.12669504511317, 75.31165212375338, 66.75619382882661, 68.56122095913494, 93.14508038892718, 68.89351667149322, 74.6276980890144, 71.12383654048665, 67.86489477199784, 450.5566020093653, 204.31994474792353, 188.55599320902718, 159.68668227623385, 131.45362153479792, 130.74141298078513, 119.48822111502898, 117.15831702551503, 113.63554025872114, 109.72130099272123, 94.84778322854743, 86.52170818827183, 84.50131464575519, 84.18668086544335, 81.40412229889145, 68.51442333438276, 67.22217674450118, 65.66348246061735, 59.13087535442527, 59.05915997843379, 56.008343772519446, 53.91632386771755, 51.96190431714011, 52.4528247974481, 51.08349728317133, 50.09028729418654, 49.137988993629385, 47.64726656486917, 45.96005132479702, 45.61348140476978, 130.34666686486014, 119.06227074986208, 167.48193891498374, 96.82937668555661, 398.9492244485489, 81.19471260976337, 120.41137237199948, 151.0748040060554, 186.86682955782962, 159.05339920841774, 101.30180112254416, 96.89246762245493, 96.30780581906772, 86.06262494356122, 85.6772450476147, 84.79360598580156], \"Total\": [451.0, 604.0, 197.0, 275.0, 205.0, 199.0, 189.0, 273.0, 301.0, 160.0, 173.0, 132.0, 198.0, 136.0, 245.0, 132.0, 203.0, 132.0, 131.0, 289.0, 117.0, 120.0, 117.0, 113.0, 324.0, 114.0, 148.0, 101.0, 110.0, 134.0, 136.04838664564372, 117.12492320654496, 82.44784741973363, 81.87313569856512, 65.9513318830289, 63.466489229166946, 54.96245690791208, 53.205540963711144, 51.66784670436022, 51.8914792486108, 50.786052842165056, 48.910614226916536, 48.44470803791936, 46.92326793697392, 46.00029721271083, 45.8880426904221, 45.31674836317132, 44.96681749368364, 43.87334623387307, 43.51990684353453, 42.15608204221692, 41.98484026156903, 41.14305417564932, 40.37702479139188, 39.97142973022312, 39.60206522133428, 39.52762411306231, 37.536868813304324, 37.377721728047234, 36.78944966971702, 86.70492838792887, 114.00819207259191, 136.9597956947196, 97.91622674384183, 95.54980063261934, 132.98474895059906, 62.852102352384705, 111.4142164389412, 156.497533702046, 79.88777745208289, 142.52731312646878, 69.38895760239542, 186.8135539906908, 113.76823722585569, 66.75214262918828, 150.37401335495395, 194.31645774048286, 241.29826674187797, 135.08979852021156, 373.87561564764786, 324.2085418269549, 281.5347304255783, 197.67950976996798, 132.69905774860848, 101.85078084312246, 93.0381853151421, 71.42571697680921, 64.88552751255311, 61.917544271478306, 60.394631746116566, 58.991520021878074, 57.52095057120336, 56.039743243280526, 51.6962797446763, 51.08359178215131, 50.689290143869044, 50.69982560037607, 48.36696607868322, 48.30871232351514, 48.00150044079924, 46.88003896461472, 45.97546921781789, 44.92881277535636, 44.34106630024376, 42.29524947235791, 42.370880338449666, 40.79629479888766, 39.438177013199905, 37.66141404666882, 37.44068839130865, 37.46917508033066, 35.99833270830696, 275.1180552830754, 115.51305979387362, 107.770951690344, 113.81225403995515, 132.62827551854383, 94.08215812291189, 241.29826674187797, 197.68163547963727, 63.251700784490026, 604.695738959684, 113.31537060657442, 131.51748636622327, 120.26937543654464, 89.15835406078274, 78.74080247688653, 194.6663008346768, 203.28764084433388, 373.87561564764786, 173.64555870410638, 110.5708763475718, 105.30443949647139, 100.69044366179648, 100.31576492554761, 98.80920431988397, 96.55739400856142, 94.31347998605449, 92.16222816588738, 90.0499031051174, 73.20513363942577, 70.71200275520417, 70.36527957519515, 61.561439695181555, 60.869440637378915, 59.44819751416259, 51.41269761467117, 49.88405716343205, 49.237812515102426, 48.614028429655264, 48.66611996540489, 47.796510463319244, 46.286272444968425, 45.212912523161926, 42.19204868775427, 42.46966766991044, 41.326124935569425, 40.39389809546837, 40.449215856094604, 39.977260578183014, 40.20407515263139, 95.39806950544455, 111.5964922527475, 83.7803381498141, 85.46146519400662, 301.31396929591523, 98.11418263002868, 156.06806281914126, 146.73194769785505, 116.75053638023346, 132.07823570655927, 373.87561564764786, 185.2690870676539, 95.42362780746427, 80.41561105894826, 128.67747164677706, 141.22019952594462, 458.57059621676495, 182.75825422220962, 324.2085418269549, 150.37401335495395, 171.75342445173715, 281.5347304255783, 245.01352084246264, 289.2985623303839, 273.38492508360787, 604.695738959684, 214.90571666628824, 199.54937858966588, 132.48535340683105, 113.58874082994919, 102.78046507938026, 97.85347901249207, 92.80458343061174, 91.69935947112775, 91.55744920033038, 81.79539111631995, 73.14103807180648, 73.21448200988702, 63.39472039232275, 57.96592392333116, 57.158322619813035, 55.23217846489235, 53.18887715157315, 52.00423853179886, 50.03849672201127, 49.31421012515951, 46.53952581377589, 45.96654148668746, 44.9451910513194, 42.70185850978582, 41.822246753932255, 40.90090343758396, 39.739576385829956, 39.58783707908971, 39.115214739683886, 38.894044455180094, 37.17696611068056, 67.60358999256097, 75.02473769276564, 289.2985623303839, 458.57059621676495, 324.2085418269549, 117.9854247955869, 88.46237116467144, 89.89816109319007, 100.02816802924124, 301.31396929591523, 169.7138074506769, 101.64304150854531, 120.87144418980273, 281.5347304255783, 142.7369266849682, 135.08979852021156, 98.84713965951045, 112.24561055782104, 373.87561564764786, 116.696213816009, 185.2690870676539, 182.75825422220962, 142.52731312646878, 451.2654359880476, 205.03193723273418, 189.26377789298803, 160.39498574445528, 132.16538134519212, 131.45285554148373, 120.2014568568763, 117.86857874015705, 114.3483809377701, 110.43412492377558, 95.55905037464619, 87.23166307969814, 85.21114357821693, 84.89457503472386, 82.1121686641302, 69.22371761009812, 67.93012616949687, 66.37252528062177, 59.840032713778946, 59.768858631981864, 56.717301389520195, 54.63476700447092, 52.67098779882109, 53.170289992271265, 51.792244270051164, 50.802639953253575, 49.85461897782784, 48.35872491521403, 46.670323080263316, 46.32509278999574, 148.27392397095915, 134.79144400118716, 198.23004461107473, 110.0152247174816, 604.695738959684, 91.0671949669719, 149.41268752637282, 203.28764084433388, 273.38492508360787, 245.01352084246264, 150.19483373608665, 151.5692709304248, 157.4788561084406, 131.1822338378995, 133.44991125274495, 187.23657319151926], \"Category\": [\"Default\", \"Default\", \"Default\", \"Default\", \"Default\", \"Default\", \"Default\", \"Default\", \"Default\", \"Default\", \"Default\", \"Default\", \"Default\", \"Default\", \"Default\", \"Default\", \"Default\", \"Default\", \"Default\", \"Default\", \"Default\", \"Default\", \"Default\", \"Default\", \"Default\", \"Default\", \"Default\", \"Default\", \"Default\", \"Default\", \"Topic1\", \"Topic1\", \"Topic1\", \"Topic1\", \"Topic1\", \"Topic1\", \"Topic1\", \"Topic1\", \"Topic1\", \"Topic1\", \"Topic1\", \"Topic1\", \"Topic1\", \"Topic1\", \"Topic1\", \"Topic1\", \"Topic1\", \"Topic1\", \"Topic1\", \"Topic1\", \"Topic1\", \"Topic1\", \"Topic1\", \"Topic1\", \"Topic1\", \"Topic1\", \"Topic1\", \"Topic1\", \"Topic1\", \"Topic1\", \"Topic1\", \"Topic1\", \"Topic1\", \"Topic1\", \"Topic1\", \"Topic1\", \"Topic1\", \"Topic1\", \"Topic1\", \"Topic1\", \"Topic1\", \"Topic1\", \"Topic1\", \"Topic1\", \"Topic1\", \"Topic1\", \"Topic1\", \"Topic1\", \"Topic1\", \"Topic1\", \"Topic1\", \"Topic1\", \"Topic2\", \"Topic2\", \"Topic2\", \"Topic2\", \"Topic2\", \"Topic2\", \"Topic2\", \"Topic2\", \"Topic2\", \"Topic2\", \"Topic2\", \"Topic2\", \"Topic2\", \"Topic2\", \"Topic2\", \"Topic2\", \"Topic2\", \"Topic2\", \"Topic2\", \"Topic2\", \"Topic2\", \"Topic2\", \"Topic2\", \"Topic2\", \"Topic2\", \"Topic2\", \"Topic2\", \"Topic2\", \"Topic2\", \"Topic2\", \"Topic2\", \"Topic2\", \"Topic2\", \"Topic2\", \"Topic2\", \"Topic2\", \"Topic2\", \"Topic2\", \"Topic2\", \"Topic2\", \"Topic2\", \"Topic2\", \"Topic2\", \"Topic2\", \"Topic2\", \"Topic2\", \"Topic2\", \"Topic2\", \"Topic3\", \"Topic3\", \"Topic3\", \"Topic3\", \"Topic3\", \"Topic3\", \"Topic3\", \"Topic3\", \"Topic3\", \"Topic3\", \"Topic3\", \"Topic3\", \"Topic3\", \"Topic3\", \"Topic3\", \"Topic3\", \"Topic3\", \"Topic3\", \"Topic3\", \"Topic3\", \"Topic3\", \"Topic3\", \"Topic3\", \"Topic3\", \"Topic3\", \"Topic3\", \"Topic3\", \"Topic3\", \"Topic3\", \"Topic3\", \"Topic3\", \"Topic3\", \"Topic3\", \"Topic3\", \"Topic3\", \"Topic3\", \"Topic3\", \"Topic3\", \"Topic3\", \"Topic3\", \"Topic3\", \"Topic3\", \"Topic3\", \"Topic3\", \"Topic3\", \"Topic3\", \"Topic3\", \"Topic3\", \"Topic3\", \"Topic3\", \"Topic3\", \"Topic3\", \"Topic3\", \"Topic3\", \"Topic3\", \"Topic3\", \"Topic3\", \"Topic3\", \"Topic4\", \"Topic4\", \"Topic4\", \"Topic4\", \"Topic4\", \"Topic4\", \"Topic4\", \"Topic4\", \"Topic4\", \"Topic4\", \"Topic4\", \"Topic4\", \"Topic4\", \"Topic4\", \"Topic4\", \"Topic4\", \"Topic4\", \"Topic4\", \"Topic4\", \"Topic4\", \"Topic4\", \"Topic4\", \"Topic4\", \"Topic4\", \"Topic4\", \"Topic4\", \"Topic4\", \"Topic4\", \"Topic4\", \"Topic4\", \"Topic4\", \"Topic4\", \"Topic4\", \"Topic4\", \"Topic4\", \"Topic4\", \"Topic4\", \"Topic4\", \"Topic4\", \"Topic4\", \"Topic4\", \"Topic4\", \"Topic4\", \"Topic4\", \"Topic4\", \"Topic4\", \"Topic4\", \"Topic4\", \"Topic4\", \"Topic4\", \"Topic4\", \"Topic4\", \"Topic4\", \"Topic5\", \"Topic5\", \"Topic5\", \"Topic5\", \"Topic5\", \"Topic5\", \"Topic5\", \"Topic5\", \"Topic5\", \"Topic5\", \"Topic5\", \"Topic5\", \"Topic5\", \"Topic5\", \"Topic5\", \"Topic5\", \"Topic5\", \"Topic5\", \"Topic5\", \"Topic5\", \"Topic5\", \"Topic5\", \"Topic5\", \"Topic5\", \"Topic5\", \"Topic5\", \"Topic5\", \"Topic5\", \"Topic5\", \"Topic5\", \"Topic5\", \"Topic5\", \"Topic5\", \"Topic5\", \"Topic5\", \"Topic5\", \"Topic5\", \"Topic5\", \"Topic5\", \"Topic5\", \"Topic5\", \"Topic5\", \"Topic5\", \"Topic5\", \"Topic5\", \"Topic5\"], \"logprob\": [30.0, 29.0, 28.0, 27.0, 26.0, 25.0, 24.0, 23.0, 22.0, 21.0, 20.0, 19.0, 18.0, 17.0, 16.0, 15.0, 14.0, 13.0, 12.0, 11.0, 10.0, 9.0, 8.0, 7.0, 6.0, 5.0, 4.0, 3.0, 2.0, 1.0, -4.95, -5.1006, -5.4542, -5.4613, -5.6797, -5.7185, -5.8641, -5.897, -5.9267, -5.9224, -5.9443, -5.9824, -5.9922, -6.0244, -6.0447, -6.0472, -6.06, -6.0677, -6.0928, -6.101, -6.1333, -6.1375, -6.1581, -6.1772, -6.1875, -6.197, -6.1989, -6.2516, -6.2559, -6.272, -5.5477, -5.3563, -5.2197, -5.5383, -5.5778, -5.3535, -5.8749, -5.5029, -5.2906, -5.7316, -5.552, -5.8903, -5.4702, -5.7033, -5.9194, -5.6602, -5.5926, -5.6036, -5.7761, -5.7938, -5.8543, -5.8771, -4.5101, -4.9105, -5.1767, -5.2678, -5.5346, -5.6317, -5.6789, -5.7042, -5.7279, -5.7535, -5.78, -5.8617, -5.8737, -5.8816, -5.8814, -5.9291, -5.9303, -5.937, -5.9609, -5.9808, -6.0041, -6.0174, -6.0655, -6.0639, -6.1022, -6.1367, -6.1836, -6.1896, -6.1889, -6.2296, -4.4712, -5.296, -5.4281, -5.4522, -5.4109, -5.6491, -5.1525, -5.3141, -5.8702, -5.0429, -5.6743, -5.6287, -5.6765, -5.8069, -5.8544, -5.7831, -5.8482, -5.8419, -4.9269, -5.3807, -5.4298, -5.4749, -5.4787, -5.4939, -5.5171, -5.5408, -5.5641, -5.5874, -5.7963, -5.8313, -5.8364, -5.9715, -5.9829, -6.0067, -6.154, -6.1845, -6.1978, -6.2106, -6.2096, -6.2278, -6.2604, -6.2842, -6.3546, -6.3483, -6.3757, -6.3989, -6.3975, -6.4095, -6.404, -5.6798, -5.5656, -5.8291, -5.8435, -4.9294, -5.7483, -5.4212, -5.481, -5.6481, -5.5868, -4.942, -5.3784, -5.8117, -5.9136, -5.6819, -5.639, -5.11, -5.5602, -5.3692, -5.6572, -5.6636, -5.5773, -5.6322, -5.6092, -5.6257, -5.5827, -5.6689, -4.6388, -5.0502, -5.205, -5.3057, -5.3551, -5.4085, -5.4206, -5.4222, -5.5358, -5.6486, -5.6477, -5.7933, -5.8838, -5.8981, -5.9326, -5.971, -5.9937, -6.0328, -6.0476, -6.1064, -6.119, -6.1418, -6.1939, -6.2151, -6.2377, -6.267, -6.271, -6.2831, -6.2889, -6.3349, -5.779, -5.7668, -4.779, -4.6182, -4.8691, -5.5426, -5.7389, -5.7502, -5.6923, -5.0771, -5.4249, -5.6954, -5.6226, -5.2836, -5.573, -5.6097, -5.7303, -5.7036, -5.3972, -5.6987, -5.6188, -5.6669, -5.7138, -3.8531, -4.6439, -4.7242, -4.8904, -5.085, -5.0904, -5.1804, -5.2001, -5.2306, -5.2657, -5.4113, -5.5032, -5.5269, -5.5306, -5.5642, -5.7366, -5.7556, -5.7791, -5.8839, -5.8851, -5.9381, -5.9762, -6.0131, -6.0037, -6.0302, -6.0498, -6.069, -6.0998, -6.1358, -6.1434, -5.0934, -5.184, -4.8427, -5.3907, -3.9748, -5.5668, -5.1727, -4.9458, -4.7332, -4.8944, -5.3455, -5.39, -5.3961, -5.5085, -5.513, -5.5234], \"loglift\": [30.0, 29.0, 28.0, 27.0, 26.0, 25.0, 24.0, 23.0, 22.0, 21.0, 20.0, 19.0, 18.0, 17.0, 16.0, 15.0, 14.0, 13.0, 12.0, 11.0, 10.0, 9.0, 8.0, 7.0, 6.0, 5.0, 4.0, 3.0, 2.0, 1.0, 1.6764, 1.6755, 1.673, 1.6729, 1.6708, 1.6704, 1.6686, 1.6682, 1.6678, 1.6678, 1.6675, 1.667, 1.6667, 1.6664, 1.666, 1.6659, 1.6657, 1.6657, 1.6653, 1.6651, 1.6647, 1.6646, 1.6643, 1.6639, 1.6637, 1.6635, 1.6634, 1.6625, 1.6624, 1.6621, 1.5292, 1.4468, 1.4, 1.4169, 1.4019, 1.2956, 1.5236, 1.3232, 1.1958, 1.4272, 1.0279, 1.4093, 0.839, 1.1019, 1.4189, 0.866, 0.6773, 0.4497, 0.8573, -0.1784, -0.0963, 0.022, 1.7426, 1.7408, 1.7392, 1.7385, 1.7361, 1.7351, 1.7346, 1.7343, 1.734, 1.7337, 1.7333, 1.7323, 1.7322, 1.7321, 1.732, 1.7314, 1.7314, 1.7312, 1.7309, 1.7305, 1.7302, 1.73, 1.7291, 1.729, 1.7286, 1.7279, 1.7271, 1.727, 1.727, 1.7263, 1.4509, 1.4939, 1.4312, 1.3526, 1.2409, 1.3461, 0.9008, 0.9386, 1.522, 0.0918, 1.1349, 1.0315, 1.0731, 1.2421, 1.3188, 0.485, 0.3766, -0.2265, 1.4554, 1.4531, 1.4527, 1.4524, 1.4524, 1.4523, 1.4521, 1.452, 1.4517, 1.4516, 1.4498, 1.4494, 1.4493, 1.4478, 1.4478, 1.4475, 1.4455, 1.4452, 1.4449, 1.4448, 1.4448, 1.4446, 1.4441, 1.4437, 1.4425, 1.4423, 1.4421, 1.4418, 1.4418, 1.4415, 1.4414, 1.3015, 1.2588, 1.2821, 1.2478, 0.9018, 1.205, 1.0679, 1.0697, 1.1312, 1.0692, 0.6734, 0.9391, 1.1693, 1.2386, 1.0002, 0.9501, 0.3012, 0.771, 0.3888, 0.8691, 0.7297, 0.3218, 0.4058, 0.2627, 0.3028, -0.448, 0.5003, 1.6045, 1.6027, 1.6018, 1.6011, 1.6008, 1.6004, 1.6003, 1.6002, 1.5993, 1.5983, 1.5983, 1.5967, 1.5957, 1.5954, 1.5952, 1.5946, 1.5943, 1.5938, 1.5936, 1.5927, 1.5924, 1.5921, 1.5912, 1.5908, 1.5905, 1.59, 1.5898, 1.5897, 1.5897, 1.5888, 1.5467, 1.4548, 1.0929, 0.793, 0.8889, 1.2262, 1.3179, 1.2905, 1.2417, 0.7541, 0.9803, 1.2225, 1.122, 0.6155, 1.0054, 1.0237, 1.2155, 1.1151, 0.2183, 1.081, 0.6988, 0.6643, 0.866, 1.5742, 1.5723, 1.572, 1.5713, 1.5703, 1.5703, 1.5698, 1.5697, 1.5695, 1.5693, 1.5683, 1.5676, 1.5674, 1.5674, 1.5671, 1.5654, 1.5653, 1.565, 1.5638, 1.5638, 1.5632, 1.5625, 1.5622, 1.5622, 1.562, 1.5616, 1.5613, 1.5609, 1.5604, 1.5603, 1.4469, 1.4517, 1.4072, 1.4481, 1.1599, 1.461, 1.3599, 1.2789, 1.1953, 1.1437, 1.1819, 1.1283, 1.084, 1.1542, 1.1326, 0.7836]}, \"token.table\": {\"Topic\": [3, 4, 3, 4, 5, 3, 3, 1, 3, 3, 1, 2, 5, 1, 2, 2, 5, 2, 5, 3, 3, 4, 5, 1, 2, 3, 4, 5, 1, 2, 3, 4, 5, 5, 3, 1, 2, 1, 5, 4, 3, 2, 2, 1, 2, 3, 4, 5, 3, 4, 2, 2, 5, 4, 1, 1, 3, 3, 5, 5, 3, 5, 2, 3, 1, 3, 3, 3, 1, 2, 3, 5, 4, 4, 1, 3, 1, 3, 4, 4, 3, 5, 2, 2, 4, 1, 3, 2, 1, 4, 5, 1, 5, 2, 3, 4, 5, 5, 5, 1, 1, 4, 2, 2, 2, 3, 5, 1, 2, 5, 4, 1, 2, 3, 3, 5, 1, 5, 2, 1, 3, 4, 1, 5, 3, 2, 4, 3, 5, 5, 1, 1, 2, 4, 1, 4, 1, 5, 3, 3, 4, 3, 1, 3, 4, 3, 4, 4, 3, 3, 4, 4, 5, 1, 1, 3, 4, 2, 2, 2, 1, 2, 3, 5, 1, 4, 5, 1, 3, 4, 4, 5, 2, 2, 4, 3, 5, 5, 2, 5, 5, 3, 2, 5, 5, 1, 4, 1, 2, 3, 2, 5, 2, 1, 2, 4, 4, 3, 4, 5, 1, 2, 4, 1, 2, 4, 5, 4, 4, 2, 5, 1, 2, 3, 4, 5, 4, 1, 1, 2, 3, 2, 1, 3, 4, 5, 2, 5, 2, 2, 1, 1, 5, 4, 1, 4, 2, 4, 2, 1, 3, 4, 1, 4, 1, 3, 2, 3, 5, 1, 4, 1, 1, 4, 5, 3, 1, 4, 2, 3, 4, 4, 1, 1, 4, 1, 3, 4, 1, 3, 4, 5, 4, 3, 1, 4, 4, 1, 2, 4, 2, 3, 4, 2, 3, 3, 4, 3, 5, 1, 2, 3, 4, 1, 1, 2, 5, 5, 1, 4, 3, 4, 3, 1, 1, 5, 1, 3, 3, 4, 3, 3, 2, 3, 4, 1, 4, 1, 2, 3, 4, 3, 2, 3, 4, 5, 2, 5, 2, 5, 5, 3, 1, 2, 1, 2, 2, 2, 5, 3, 4, 3, 4, 1, 1, 1, 3, 4, 1, 2, 3, 4, 3, 5, 3, 1, 2, 3, 4, 2, 5, 2, 4, 2, 4, 3, 4, 5], \"Freq\": [0.9873693160289366, 0.9937736078039308, 0.2363124875454276, 0.1067217685689028, 0.6555765783518315, 0.9835375802281614, 0.9873893221874429, 0.18721888237790327, 0.8073814302547079, 0.9857163031518806, 0.7640204192891263, 0.22471188802621364, 0.9863076042700692, 0.3188702363821954, 0.6696274964026103, 0.9831921601357221, 0.9943873571323866, 0.9888895216162439, 0.986455495181483, 0.983335384621216, 0.1319528680004052, 0.22431987560068886, 0.6399714098019653, 0.4282344524315753, 0.13382326638486727, 0.19805843424960357, 0.13382326638486727, 0.10170568245249913, 0.14424930374531492, 0.11633008366557655, 0.3815626744230911, 0.28849860749062983, 0.06514484685272287, 0.987353040924956, 0.9921085043401026, 0.776088683117864, 0.21279850988715626, 0.9803238781618102, 0.9967681942284838, 0.9963365504612374, 0.9918104358247409, 0.9936095932044774, 0.9791360596730846, 0.1918058206118002, 0.07459115246014453, 0.3196763676863337, 0.36940380265976336, 0.04617547533247042, 0.9822777613990846, 0.9789701405376127, 0.982437886005841, 0.11465266140342796, 0.8767556460262138, 0.9884071484540956, 0.9824888303387775, 0.9930103466243235, 0.9962823195195771, 0.1112830277259133, 0.8828453532922454, 0.9986062948973935, 0.3521920663625263, 0.6444365469612184, 0.9888412987460414, 0.9902485743134416, 0.4455557080986343, 0.5519570712266664, 0.9908800103122751, 0.9952908912237659, 0.16994735937609817, 0.028324559896016364, 0.6018968977903477, 0.20535305924611863, 0.977013332819878, 0.9797348388349745, 0.7638102924631678, 0.23058423923416388, 0.1696438955311549, 0.3423722255265126, 0.487340645344045, 0.991330348126466, 0.3145747702573544, 0.6840172330014568, 0.9965625685193236, 0.32373217991160314, 0.6778142516899192, 0.676769334154498, 0.3158256892720991, 0.992308116860918, 0.978499312435899, 0.18740041735115515, 0.8031446457906649, 0.11816546331095462, 0.8816961493201999, 0.10192206398649052, 0.774607686297328, 0.12230647678378863, 0.9949669439470651, 0.977989776011352, 0.988381628781926, 0.9870742299716574, 0.9906623929489659, 0.9851510685487739, 0.9861966862392741, 0.9916467911578126, 0.15516767164097256, 0.8355182319129292, 0.9965549965452001, 0.16767363419713904, 0.5383206150539727, 0.2912226278160836, 0.9789729343251247, 0.11356905185594533, 0.20442429334070158, 0.6738430410119423, 0.15133931921803118, 0.8424555436470402, 0.7659608881396863, 0.22468186052097466, 0.9787878701487487, 0.5625471709906652, 0.16700619138785372, 0.27248378594860345, 0.8591598049854439, 0.1431933008309073, 0.9899309490968735, 0.605663939951001, 0.3925599610793525, 0.3469196300176952, 0.6489437785036888, 0.9925820021962329, 0.9856975600182709, 0.2227258587285403, 0.160362618284549, 0.6147233700907713, 0.7535337543699723, 0.24071217153485225, 0.9945681126463656, 0.9900046398080942, 0.9919728465181061, 0.9889411032466543, 0.9923733439888646, 0.9942273296179472, 0.1398846260315905, 0.6294808171421573, 0.22536967527311805, 0.5741519399324619, 0.42480605960320883, 0.9714889782120394, 0.9948370098308954, 0.6727833876023613, 0.3203730417154102, 0.9776480118543358, 0.9894625182544591, 0.9898944689353872, 0.12373772243665634, 0.34175180482505085, 0.5361967972255108, 0.9912468106518639, 0.993465781068498, 0.9864016611415811, 0.2296559868996131, 0.2189743130903288, 0.10147590118820114, 0.45397113689458407, 0.1778016471031456, 0.20955194122870732, 0.6096056472107849, 0.2099408637960966, 0.08997465591261283, 0.6898056953300317, 0.9843994821253937, 0.9969533373807916, 0.9793270127123007, 0.9863524649255292, 0.9803394887230695, 0.7440505211482454, 0.2410304505128119, 0.9929823607376357, 0.7451346651497325, 0.2544362271242989, 0.9872607705520171, 0.9966761910799936, 0.09882812359888878, 0.8894531123899989, 0.9871361332710735, 0.43674652450660567, 0.5551862599660241, 0.9855752438068093, 0.6476946944371118, 0.3428971911725886, 0.6031896267007901, 0.3920732573555136, 0.9924128778702753, 0.9800939224189198, 0.9940397241381919, 0.9813894245210508, 0.9833363490486455, 0.9951701242814253, 0.9806892945623115, 0.9994117963245591, 0.6134281974230558, 0.22364569697715575, 0.1597469264122541, 0.752045514360906, 0.24094662110592135, 0.9924064842596549, 0.9828577773664678, 0.9792460447446966, 0.994816908562878, 0.9947320066889035, 0.9847034187991487, 0.14011791107245566, 0.14712380662607846, 0.1681414932869468, 0.5464598531825771, 0.9975374183761294, 0.9957963188969645, 0.9806476232509378, 0.10809069185579112, 0.5071947848617891, 0.38247475579741474, 0.981227853388113, 0.10903446582162706, 0.3140192615662859, 0.44267993123580585, 0.133022048302385, 0.6765528075119945, 0.3163104035121013, 0.993019323067219, 0.9804811980398433, 0.9866517625356604, 0.972217566280584, 0.9856370593554602, 0.9939114817505382, 0.5191987302415332, 0.4771015358976251, 0.24869331118252883, 0.7460799335475865, 0.9787828327929312, 0.10024246151241327, 0.3007273845372398, 0.5979981324706033, 0.9782545489198616, 0.9835637479426105, 0.17921710258332607, 0.8154378167541336, 0.19183201158249585, 0.1488351814002123, 0.6598359708742746, 0.7000901903999538, 0.29619200363074966, 0.988053585560196, 0.789416956482344, 0.20173988887882124, 0.996068924129428, 0.9938151760803641, 0.978541411279472, 0.9779735076278017, 0.4451602182796827, 0.31869424717750017, 0.23269738682801597, 0.9970704974753758, 0.9765429556136597, 0.04437634155715868, 0.9466952865527185, 0.9903955266244981, 0.849073785454088, 0.1362711013691746, 0.3653833588034177, 0.08748615633321269, 0.26760471348982706, 0.27275095798001603, 0.9683415234267212, 0.9968522901083198, 0.853469362997621, 0.13840043724285744, 0.9912779901020881, 0.9922940163313044, 0.1332893697136413, 0.8530519661673044, 0.48662730537432686, 0.24331365268716343, 0.25852075598011115, 0.7330361174408947, 0.26908920766817657, 0.6746996925567778, 0.32031197525422783, 0.7958653693881046, 0.186530945950337, 0.15513180740479482, 0.13908368939740226, 0.45469667687612275, 0.2487458291145848, 0.9813820733738525, 0.9725761506712324, 0.7791326812795003, 0.2164257447998612, 0.9926309560237268, 0.40275514057468326, 0.5912788233968754, 0.593730998198484, 0.40481658968078454, 0.9931429077409215, 0.9893355043615311, 0.9847971256557111, 0.9859620278318211, 0.9756968980899724, 0.9924607047327918, 0.9863124496902894, 0.9936284060038264, 0.9883408746826544, 0.9755545886824387, 0.8063024293017229, 0.18971821865922892, 0.9902758443298005, 0.26696875339998516, 0.7230403737916264, 0.2503589092168758, 0.19213590707341632, 0.4832509177907138, 0.07568990278649734, 0.9948088094383993, 0.28253477753558154, 0.3030827613563511, 0.16438387056615653, 0.2517128018044272, 0.9865313374943967, 0.9973442776221464, 0.9882296931428497, 0.994149686791001, 0.9842008219653127, 0.9971089585783172, 0.9908202968718219, 0.9851811908518961, 0.9845222694386591, 0.9874783717729364, 0.9909432899486164, 0.9722672514753278, 0.9911824009182226, 0.31482725747939866, 0.6788462739399533, 0.7194827758771795, 0.2740886765246398, 0.977341815497499, 0.9926498340331615, 0.10396247261641348, 0.5033972358268443, 0.38849134504028193, 0.9828203153673892, 0.9814463239282383, 0.9717470773563017, 0.9972469040317306, 0.988894324733197, 0.9975221130787534, 0.9700509177723845, 0.29009740080263624, 0.43100185262105956, 0.18234693764737134, 0.09531771740658047, 0.2557951864856292, 0.7427898684486541, 0.3135980572524407, 0.6865254766877756, 0.3805696234403127, 0.6122206985778944, 0.1664504655594779, 0.1597924469370988, 0.6724598808602907], \"Term\": [\"abbott\", \"accident\", \"accused\", \"accused\", \"accused\", \"action\", \"adelaide\", \"ahead\", \"ahead\", \"aid\", \"air\", \"air\", \"alleged\", \"appeal\", \"appeal\", \"arrest\", \"arrested\", \"art\", \"assault\", \"asylum\", \"attack\", \"attack\", \"attack\", \"australian\", \"australian\", \"australian\", \"australian\", \"australian\", \"back\", \"back\", \"back\", \"back\", \"back\", \"bail\", \"better\", \"big\", \"big\", \"bill\", \"blaze\", \"boost\", \"budget\", \"bus\", \"bushfire\", \"call\", \"call\", \"call\", \"call\", \"call\", \"campaign\", \"cancer\", \"candidate\", \"car\", \"car\", \"care\", \"cattle\", \"central\", \"change\", \"charge\", \"charge\", \"charged\", \"child\", \"child\", \"china\", \"christmas\", \"claim\", \"claim\", \"clash\", \"climate\", \"coast\", \"coast\", \"coast\", \"coast\", \"confident\", \"control\", \"cost\", \"cost\", \"council\", \"council\", \"council\", \"country\", \"court\", \"court\", \"crash\", \"cup\", \"cup\", \"cut\", \"cut\", \"cyclone\", \"dairy\", \"day\", \"day\", \"dead\", \"dead\", \"deal\", \"deal\", \"deal\", \"death\", \"defence\", \"demand\", \"despite\", \"dollar\", \"double\", \"doubt\", \"driver\", \"drought\", \"drought\", \"drug\", \"dy\", \"dy\", \"dy\", \"education\", \"election\", \"election\", \"election\", \"face\", \"face\", \"fall\", \"fall\", \"fatal\", \"fear\", \"fear\", \"fear\", \"festival\", \"festival\", \"fight\", \"find\", \"find\", \"fire\", \"fire\", \"firefighter\", \"firm\", \"flood\", \"flood\", \"flood\", \"force\", \"force\", \"former\", \"found\", \"free\", \"front\", \"fund\", \"funding\", \"government\", \"government\", \"government\", \"govt\", \"govt\", \"grain\", \"green\", \"group\", \"group\", \"grower\", \"guilty\", \"hand\", \"health\", \"health\", \"health\", \"higher\", \"highlight\", \"highway\", \"hit\", \"hit\", \"hit\", \"hit\", \"home\", \"home\", \"home\", \"hope\", \"hope\", \"hope\", \"hour\", \"house\", \"hunt\", \"hunter\", \"impact\", \"indigenous\", \"indigenous\", \"inquest\", \"interview\", \"interview\", \"investigate\", \"iraq\", \"jail\", \"jail\", \"jailed\", \"job\", \"job\", \"keep\", \"kill\", \"kill\", \"killed\", \"killed\", \"korea\", \"lake\", \"leader\", \"level\", \"liberal\", \"live\", \"loss\", \"man\", \"market\", \"market\", \"market\", \"may\", \"may\", \"mayor\", \"meet\", \"meeting\", \"mine\", \"missing\", \"mother\", \"mp\", \"mp\", \"mp\", \"mp\", \"murder\", \"murray\", \"named\", \"national\", \"national\", \"national\", \"near\", \"new\", \"new\", \"new\", \"new\", \"news\", \"news\", \"nrl\", \"nuclear\", \"nz\", \"oil\", \"old\", \"one\", \"open\", \"open\", \"opposition\", \"opposition\", \"people\", \"plan\", \"plan\", \"plan\", \"plane\", \"plant\", \"pm\", \"pm\", \"police\", \"police\", \"police\", \"power\", \"power\", \"pressure\", \"price\", \"price\", \"probe\", \"promise\", \"prompt\", \"protection\", \"qld\", \"qld\", \"qld\", \"question\", \"race\", \"rail\", \"rail\", \"rate\", \"reject\", \"reject\", \"report\", \"report\", \"report\", \"report\", \"research\", \"resident\", \"return\", \"return\", \"review\", \"rise\", \"river\", \"river\", \"road\", \"road\", \"road\", \"rural\", \"rural\", \"sa\", \"sa\", \"safety\", \"safety\", \"say\", \"say\", \"say\", \"say\", \"scheme\", \"sea\", \"search\", \"search\", \"second\", \"service\", \"service\", \"set\", \"set\", \"sex\", \"share\", \"shark\", \"shooting\", \"shortage\", \"sign\", \"slam\", \"sport\", \"state\", \"step\", \"storm\", \"storm\", \"study\", \"support\", \"support\", \"sydney\", \"sydney\", \"sydney\", \"sydney\", \"ta\", \"take\", \"take\", \"take\", \"take\", \"tasmania\", \"teen\", \"th\", \"three\", \"tiger\", \"time\", \"title\", \"tour\", \"tourism\", \"tourist\", \"train\", \"truck\", \"two\", \"union\", \"union\", \"urged\", \"urged\", \"violence\", \"vote\", \"wa\", \"wa\", \"wa\", \"warned\", \"warns\", \"waste\", \"water\", \"way\", \"weather\", \"western\", \"win\", \"win\", \"win\", \"win\", \"woman\", \"woman\", \"worker\", \"worker\", \"world\", \"world\", \"year\", \"year\", \"year\"]}, \"R\": 30, \"lambda.step\": 0.01, \"plot.opts\": {\"xlab\": \"PC1\", \"ylab\": \"PC2\"}, \"topic.order\": [1, 2, 3, 4, 5]};\n",
       "\n",
       "function LDAvis_load_lib(url, callback){\n",
       "  var s = document.createElement('script');\n",
       "  s.src = url;\n",
       "  s.async = true;\n",
       "  s.onreadystatechange = s.onload = callback;\n",
       "  s.onerror = function(){console.warn(\"failed to load library \" + url);};\n",
       "  document.getElementsByTagName(\"head\")[0].appendChild(s);\n",
       "}\n",
       "\n",
       "if(typeof(LDAvis) !== \"undefined\"){\n",
       "   // already loaded: just create the visualization\n",
       "   !function(LDAvis){\n",
       "       new LDAvis(\"#\" + \"ldavis_el1015219286110408329047146806\", ldavis_el1015219286110408329047146806_data);\n",
       "   }(LDAvis);\n",
       "}else if(typeof define === \"function\" && define.amd){\n",
       "   // require.js is available: use it to load d3/LDAvis\n",
       "   require.config({paths: {d3: \"https://d3js.org/d3.v5\"}});\n",
       "   require([\"d3\"], function(d3){\n",
       "      window.d3 = d3;\n",
       "      LDAvis_load_lib(\"https://cdn.jsdelivr.net/gh/bmabey/pyLDAvis@3.4.0/pyLDAvis/js/ldavis.v3.0.0.js\", function(){\n",
       "        new LDAvis(\"#\" + \"ldavis_el1015219286110408329047146806\", ldavis_el1015219286110408329047146806_data);\n",
       "      });\n",
       "    });\n",
       "}else{\n",
       "    // require.js not available: dynamically load d3 & LDAvis\n",
       "    LDAvis_load_lib(\"https://d3js.org/d3.v5.js\", function(){\n",
       "         LDAvis_load_lib(\"https://cdn.jsdelivr.net/gh/bmabey/pyLDAvis@3.4.0/pyLDAvis/js/ldavis.v3.0.0.js\", function(){\n",
       "                 new LDAvis(\"#\" + \"ldavis_el1015219286110408329047146806\", ldavis_el1015219286110408329047146806_data);\n",
       "            })\n",
       "         });\n",
       "}\n",
       "</script>"
      ],
      "text/plain": [
       "<IPython.core.display.HTML object>"
      ]
     },
     "execution_count": 91,
     "metadata": {},
     "output_type": "execute_result"
    }
   ],
   "source": [
    "# TODO: show visualization results of the LDA\n",
    "lda_display = gensimvis.prepare(lda_model, bow_corpus, dictionary, sort_topics=False)\n",
    "pyLDAvis.display(lda_display)"
   ]
  },
  {
   "cell_type": "markdown",
   "metadata": {},
   "source": [
    "Depending on your results, you can try to fine tune the algorithm: number of topics, hyperparameters...\n",
    "And check with others their results."
   ]
  }
 ],
 "metadata": {
  "kernelspec": {
   "display_name": "Python 3",
   "language": "python",
   "name": "python3"
  },
  "language_info": {
   "codemirror_mode": {
    "name": "ipython",
    "version": 3
   },
   "file_extension": ".py",
   "mimetype": "text/x-python",
   "name": "python",
   "nbconvert_exporter": "python",
   "pygments_lexer": "ipython3",
   "version": "3.10.11"
  },
  "toc": {
   "base_numbering": 1,
   "nav_menu": {},
   "number_sections": true,
   "sideBar": true,
   "skip_h1_title": false,
   "title_cell": "Table of Contents",
   "title_sidebar": "Contents",
   "toc_cell": false,
   "toc_position": {},
   "toc_section_display": true,
   "toc_window_display": false
  }
 },
 "nbformat": 4,
 "nbformat_minor": 2
}
